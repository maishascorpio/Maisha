{
 "cells": [
  {
   "cell_type": "code",
   "execution_count": 2,
   "id": "2c73e0bc-09ad-4ce6-a0b2-ff64193a413f",
   "metadata": {},
   "outputs": [
    {
     "name": "stdout",
     "output_type": "stream",
     "text": [
      "We predict the rate of growth of this bacterial population to be 0.4\n"
     ]
    }
   ],
   "source": [
    "#Set the initial population to 100\n",
    "N0=100\n",
    "#Set the growth rate to 0.4\n",
    "rate=0.4\n",
    "\n",
    "#Import numpy to use numpy package\n",
    "import numpy as np\n",
    "#Generate an array of time points from 0 to 10, in 0.2 increments \n",
    "t=np.arange(0,10.2,0.2)\n",
    "#Calculate the population size of the colony at time point t \n",
    "population_size = N0 * np.exp(rate*t)\n",
    "#Add noise to population size\n",
    "population_size_noise = np.random.normal(0,250,len(population_size)) + population_size\n",
    "#Define range rate to range from 0 to 1, in 0.1 increments \n",
    "range_rate=np.arange(0,1.1,0.1)\n",
    "\n",
    "#Define a function called squared_error to take predicted_data and observed_data\n",
    "def squared_error(predicted_data,observed_data):\n",
    "    #The difference between our predicted data and observed data\n",
    "    residual = predicted_data-observed_data\n",
    "    #Use the residual to calculate mean squared error\n",
    "    mse = (1/len(residual)) * np.sum((residual)**2)\n",
    "    #Return the result\n",
    "    return mse\n",
    "\n",
    "#Initialize a list to store our results\n",
    "mse = []\n",
    "#Loop through each range_rate\n",
    "for i in range_rate:\n",
    "    #Calculate predicted_data at each range_rate\n",
    "    predicted_data = N0 * np.exp(i*t)\n",
    "    #Call function to calculate error using predicted_data and population_size_noise\n",
    "    error = squared_error(predicted_data, population_size_noise)\n",
    "    #Input each error result into the mse list \n",
    "    mse.append(error)\n",
    "\n",
    "#Find the index of the minimum value in mse\n",
    "idx_min_mse = np.argmin(mse)\n",
    "#Use the index of the min value in mse to obtain the corresponding rate\n",
    "#The arrays are the same size, and generated inorder when iterating over range_rates\n",
    "best_fit = range_rate[idx_min_mse]\n",
    "\n",
    "#Print the output best_fit\n",
    "print('We predict the rate of growth of this bacterial population to be',best_fit)\n",
    "    \n"
   ]
  },
  {
   "cell_type": "code",
   "execution_count": null,
   "id": "c8ba01fd-0fce-43d4-afe9-b810595783b6",
   "metadata": {},
   "outputs": [],
   "source": []
  }
 ],
 "metadata": {
  "kernelspec": {
   "display_name": "Python 3 (ipykernel)",
   "language": "python",
   "name": "python3"
  },
  "language_info": {
   "codemirror_mode": {
    "name": "ipython",
    "version": 3
   },
   "file_extension": ".py",
   "mimetype": "text/x-python",
   "name": "python",
   "nbconvert_exporter": "python",
   "pygments_lexer": "ipython3",
   "version": "3.9.12"
  }
 },
 "nbformat": 4,
 "nbformat_minor": 5
}
